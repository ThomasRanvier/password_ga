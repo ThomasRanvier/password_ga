{
 "cells": [
  {
   "cell_type": "code",
   "execution_count": 84,
   "metadata": {},
   "outputs": [],
   "source": [
    "from blackbox37 import check\n",
    "import random\n",
    "import numpy as np\n",
    "import math\n",
    "import matplotlib.pyplot as plt\n",
    "import time\n",
    "%matplotlib inline"
   ]
  },
  {
   "cell_type": "markdown",
   "metadata": {},
   "source": [
    "## Algorithme\n",
    "\n",
    "Nous avons défini notre algorithme génétique au sein d'une classe afin de pouvoir en utilisant différentes instances lors de nos tests.\n",
    "Une instance garde en mémoire, entre autre, les informations de temps d'exécution et de générations nécessaires pour l'ensemble des exécutions effectuées avec celle-ci.\n",
    "Le but étant de définir une instance avec des paramètres définis et de l'exécuter plusieurs fois afin d'évaluer les paramètres.\n",
    "\n",
    "Le constructeur de l'algorithme définit les paramètres utilisés, les valeurs par défauts de ces paramètres sont celles que nous avons déterminé comme étant les meilleures pour minimiser le temps d'exécution nécessaire pour trouver un mot de passe.\n",
    "\n",
    "### Génotype et phénotype\n",
    "\n",
    "Nous avons volontairement choisi de ne pas séparer la représentation du génotype de celle du phénotype.\n",
    "Ainsi, dans notre cas le génotype d'un individu est équivalent à son phénotype.\n",
    "\n",
    "Cela fonctionne très bien dans ce cas puisqu'un individu est une simple liste de caractères et cela permet en plus à notre implémentation d'être générique.\n",
    "\n",
    "### Fonction 'run'\n",
    "\n",
    "C'est la fonction principale de notre classe, elle permet de lancer une exécution complète de l'algorithme génétique.\n",
    "\n",
    "Il est possible de fixer une seed pour l'aléatoire afin de pouvoir reproduire le résultat obtenu.\n",
    "\n",
    "C'est dans cette fonction que se trouve la boucle principale de l'algorithme, on continue tant que l'on n'a pas atteint l'un des deux thresholds.\n",
    "On s'arrète dès que le meilleur individu atteint la valeur de fitness fixée.\n",
    "On s'arrète également si le nombre total de génération atteint la valeur maximale fixée, ce qui permet de limiter le temps maximal d'exécution d'une exécution.\n",
    "\n",
    "La boucle se divise en trois principales étapes :\n",
    "* Créer une nouvelle population avec la fonction '_selection'\n",
    "* Evaluer la nouvelle population avec la fonction '_evaluate_population'\n",
    "* Complétion de l'historique de l'exécution\n",
    "\n",
    "La première population est générée de manière totalement aléatoire.\n",
    "\n",
    "Nous avons ajouté une sécurité contre les maximums locaux au sein de cette fonction.\n",
    "Lorsque l'on détecte que le meilleur individu n'a pas changé pour un certain nombre de générations on réinitialise la population de manière complétement aléatoire.\n",
    "Initialement nous voulions garder une partie de la population courante afin de ne pas perdre la totalité de la progression, mais il s'avére que nous obtenons de bien meilleurs résultats en la réinitialisant à 100%.\n",
    "\n",
    "### Fonction '_evaluate_population'\n",
    "\n",
    "Elle génére simplement une liste contenant, pour chaque individu, les valeur de fitness issuent de la fonction 'check' fournie pour ce TP.\n",
    "\n",
    "### Fonction '_selection'\n",
    "\n",
    "Elle permet de générer une nouvelle population à partir de la population courante et de son évaluation.\n",
    "\n",
    "* La première étape consiste en trier la population courante par rapport à son évaluation.\n",
    "\n",
    "* On peut ensuite récupérer la meilleure partie de la population courante pour l'ajouter à la nouvelle.\n",
    "  On utilise pour cela le ratio déterminé par le paramètre 'keeping_rate'.\n",
    "  Nous avons découvert que garder une partie de la population courante au sein de la nouvelle améliore drastiquement les    résultats.\n",
    "\n",
    "* On supprime ensuite la pire partie de la population courante en utilisant le ration 'cropping_rate'.\n",
    "  Cela permet de ne pas garder les pires individus pour la reproduction.\n",
    "\n",
    "* Ensuite, tant que la nouvelle population ne contient pas assez d'individus on en ajoute par reproduction.\n",
    "  On sélectionne deux individus parents de manière aléatoire au sein de la population courante, en pondérant le poid de chaque individu par sa place au sein de celle-ci.\n",
    "  Ainsi, les meilleurs individus ont plus de chance de se reproduire que les moins bons.\n",
    "  On génére ensuite un nouvel individu enfant à partir des deux parents avec la fonction '_crossover'.\n",
    "  La nouvelle entité est ajoutée à la nouvelle population.\n",
    "\n",
    "Le ratio 'keeping_rate' permet ainsi de faire varier le facteur d'exploitation et d'exploration, il faut le choisir de manière à avoir assez de nouveaux individus à chaque génération pour une exploration suffisante mais également de manière à garder assez d'anciens individus pour ne pas ralentir la progression vers la solution optimale.\n",
    "\n",
    "### Fonction '_crossover'\n",
    "\n",
    "Elle permet de simuler une reproduction entre deux individus parents, elle est divisée en trois principales étapes :\n",
    "\n",
    "* Sélection de la taille du nouvel individu.\n",
    "  On sélectionne la taille du nouvel individu de manière aléatoire en utilisant une loi normale centrée sur la moyenne entre les tailles des deux parents.\n",
    "  On obtient ainsi une taille qui a de fortes chances d'être proche de celles des parents mais qui peut tout de même varier entre les valeurs minimales et maximales de tailles.\n",
    "  Nous avons trouvé qu'une loi normal avec un écart type de 1.8 donnait des valeurs convenables, cette valeur n'est pas un paramètre à faire varier, elle a été choisie de manière arbitraire et est fixée.\n",
    "* Génération du nouvel individu.\n",
    "  On sélectionne un point de césure entre 0 et la taille du plus petit parent.\n",
    "  Le nouvel individu est généré à partir du début du premier parent jusqu'au point de césure et de la fin du second à partir du même point.\n",
    "  Si le nouvel individu est plus grand que la taille précédemment déterminée on supprime certains caractères de manière aléatoire.\n",
    "  S'il est plus petit que la taille prévue on ajoute des caractères aléatoires.\n",
    "* Le nouvel individu passe par la fonction '_mutation' avant d'être retourné.\n",
    "\n",
    "### Fonction '_mutation'\n",
    "\n",
    "Cette fonction permet d'ajouter des mutations à un individu.\n",
    "\n",
    "Comme le génotype est une liste de caractères la fonction parcours chaque caractère et lui apporte une mutation avec une probabilité déterminée par le paramètre 'mutation_rate'.\n",
    "\n",
    "Une mutation d'un caractère consiste simplement à le remplacer par un caractère aléatoire dans l'ensemble des caractères possibles, déterminés par le paramètre 'possible_chars'.\n",
    "\n",
    "### Valeurs des hyper-paramètres\n",
    "\n",
    "Nous avons déterminé les valeurs suivantes comme étant les plus optimales.\n",
    "Pour déterminer ces valeurs nous avons fait des tests que vous pourrez trouver avec plus d'explications sur nos choix plus bas dans ce notebook.\n",
    "\n",
    "* entities_per_gen = 700.\n",
    "  Il détermine le nombre d'individus qui compose une population.\n",
    "* fitness_threshold = 1.\n",
    "  C'est la limite à laquelle on s'arrète lorsqu'un individu d'une génération l'atteint.\n",
    "  Une limite de 1 permet donc de trouver le mot de passe exact.\n",
    "* max_generations = 500.\n",
    "  C'est une limite de génération maximale, elle permet d'arréter le processus d'exécution après un certain nombre de génération, permettant ainsi de ne pas rester bloquer indéfiniment.\n",
    "  Ce paramètre n'est plus très utile depuis que nous avons ajouté le reset de la population lorsque l'on détecte que l'on est bloqué sur un maximum local, mais nous l'avons laissé par sécurité.\n",
    "* mutation_rate = .01.\n",
    "  C'est la probabilité de muter chaque caractère.\n",
    "* cropping_rate = .05,\n",
    "  C'est le taux de la plus mauvaise partie de la population qui est supprimée avant reproduction.\n",
    "* keeping_rate = .2,\n",
    "  C'est le taux de la meilleure partie de la population qui est gardée lors de la reproduction.\n",
    "* stuck_threshold = 50\n",
    "  Si le meilleur individu n'a pas changé pendant ce nombre de générations on considère que l'on est bloqué.\n",
    "  Lorsque cette limite est atteinte la totalité de la population est alors remplacée par une nouvelle complétement aléatoire.\n",
    "\n",
    "Les autres paramètres comprennent l'id de notre groupe (9), les limites de tailles et de caractères du mot de passe cherché et les options d'affichage d'informations durant l'exécution."
   ]
  },
  {
   "cell_type": "code",
   "execution_count": 361,
   "metadata": {},
   "outputs": [],
   "source": [
    "class GA:\n",
    "    \"\"\"\n",
    "    Class that instantiates a genetic algorithm\n",
    "    \"\"\"\n",
    "    \n",
    "    def __init__(self,\n",
    "                group_id = 9,\n",
    "                pass_min_length = 12,\n",
    "                pass_max_length = 18,\n",
    "                possible_chars = np.concatenate(([chr(i) for i in range(ord('A'), ord('Z') + 1)], \n",
    "                                                 [str(i) for i in list(range(10))])),\n",
    "                entities_per_gen = 700,\n",
    "                fitness_threshold = 1.,\n",
    "                max_generations = 500,\n",
    "                mutation_rate = .01,\n",
    "                cropping_rate = .05,\n",
    "                keeping_rate = .2,\n",
    "                verbose = False,\n",
    "                print_every = 10,\n",
    "                stuck_threshold = 50\n",
    "                ):\n",
    "        \"\"\"\n",
    "        Instanciates the genetic algorithm with all its parameters and initializes its history\n",
    "        \n",
    "        :param group_id:            Integer 1-12, used to get a different password for each  group\n",
    "        :param pass_min_length:     Integer, minimal length of the password to find\n",
    "        :param pass_max_length:     Integer, maximal length of the password to find\n",
    "        :param possible_chars:      List of chars, all the characters that the password can contain\n",
    "        :param entities_per_gen:    Integer, number of entities in each generation\n",
    "        :param fitness_threshold:   Float, defines the fitness threshold after which the run ends\n",
    "        :param max_generations:     Integer, defines a security generation threshold after which the run ends\n",
    "        :param mutation_rate:       Float, the mutation rate\n",
    "        :param cropping_rate:       Float, rate of the lowest part of the population that is cropped before procreation\n",
    "        :param keeping_rate:        Float, rate of the highest part of the population that is kept for the next generation\n",
    "        :param verbose:             Boolean, if informations are displayed during the run or not\n",
    "        :param print_every:         Integer, the frequency in generations at which informations are displayed if verbose = True\n",
    "        :param stuck_threshold:     Integer, security threshold in generations after which part of the population is reinitialized\n",
    "        \"\"\"\n",
    "        ## Params\n",
    "        self._group_id = group_id\n",
    "        self._pass_min_length = pass_min_length\n",
    "        self._pass_max_length = pass_max_length\n",
    "        self._possible_chars = possible_chars\n",
    "        self._entities_per_gen = entities_per_gen\n",
    "        self._fitness_threshold = fitness_threshold\n",
    "        self._max_generations = max_generations\n",
    "        self._mutation_rate = mutation_rate\n",
    "        self._cropping_number = int(cropping_rate * self._entities_per_gen)\n",
    "        self._keeping_number = int(keeping_rate * self._entities_per_gen)\n",
    "        self._weights = [i + 1 for i in range(self._entities_per_gen - self._cropping_number)]\n",
    "        self._verbose = verbose\n",
    "        self._print_every = print_every\n",
    "        self._stuck_threshold = stuck_threshold\n",
    "        \n",
    "        ## History\n",
    "        self._max_fitnesses = []\n",
    "        self._mean_fitnesses = []\n",
    "        self._median_fitnesses = []\n",
    "        self._min_fitnesses = []\n",
    "        self._best_entities = []\n",
    "        self._generations = []\n",
    "        self._run_times = []\n",
    "        \n",
    "    def run(self, seed = None):\n",
    "        \"\"\"\n",
    "        Executes one run of the genetic algorithm\n",
    "        \n",
    "        :param seed:  The random seed, if seed = None then results are not reproductible\n",
    "        \"\"\"\n",
    "        ## Set the random seed\n",
    "        random.seed(seed)\n",
    "        np.random.seed(seed)\n",
    "        \n",
    "        ## Initializes the run history\n",
    "        max_fitnesses = []\n",
    "        mean_fitnesses = []\n",
    "        median_fitnesses = []\n",
    "        min_fitnesses = []\n",
    "        best_entities = []\n",
    "        generation = 0\n",
    "        max_fitness = 0.\n",
    "        run_start_time = time.time()\n",
    "        \n",
    "        ## Create a new generation while none of the thresholds are reached\n",
    "        while max_fitness < self._fitness_threshold and generation < self._max_generations:\n",
    "            \n",
    "            if generation == 0 or (len(max_fitnesses) >= self._stuck_threshold and len(set(max_fitnesses[-self._stuck_threshold:len(max_fitnesses)])) == 1):\n",
    "                ## Generate fully random population if first generation or if stuck\n",
    "                population = [self._random_entity() for _ in range(self._entities_per_gen)]\n",
    "            else:\n",
    "                ## Reproduction for new generation\n",
    "                population = self._selection(population, fitnesses)\n",
    "            generation += 1\n",
    "            \n",
    "            ## Evaluate the new population\n",
    "            fitnesses = self._evaluate_population(population)\n",
    "            \n",
    "            ## History and logging\n",
    "            max_fitness = max(fitnesses)\n",
    "            max_fitnesses.append(max_fitness)\n",
    "            mean_fitnesses.append(np.mean(fitnesses))\n",
    "            median_fitnesses.append(np.median(fitnesses))\n",
    "            min_fitnesses.append(min(fitnesses))\n",
    "            best_entity = ''.join(population[np.argmax(fitnesses)])\n",
    "            best_entities.append(best_entity)\n",
    "            if self._verbose and generation % self._print_every == 0:\n",
    "                print('Gen', generation)\n",
    "                print(''.join(population[np.argmax(fitnesses)]))\n",
    "                print(max(fitnesses))\n",
    "        \n",
    "        ## History\n",
    "        self._generations.append(generation)\n",
    "        self._max_fitnesses.append(max_fitnesses)\n",
    "        self._mean_fitnesses.append(mean_fitnesses)\n",
    "        self._median_fitnesses.append(median_fitnesses)\n",
    "        self._min_fitnesses.append(min_fitnesses)\n",
    "        self._best_entities.append(best_entities)\n",
    "        self._run_times.append(time.time() - run_start_time)\n",
    "        \n",
    "        if self._verbose:\n",
    "            print('## Run over ##')\n",
    "        \n",
    "    def run_x_times(self, x, seeds = None):\n",
    "        \"\"\"\n",
    "        Executes x runs of the genetic algorithm\n",
    "        \n",
    "        :param x:      Integer, the number of runs to execute\n",
    "        :param seeds:  The random seed, if seed = None then results are not reproductible \n",
    "        \"\"\"\n",
    "        if seeds is None or len(seeds) != x:\n",
    "            seeds = [None] * x\n",
    "        for i in range(x):\n",
    "            self.run(seed = seeds[i])\n",
    "    \n",
    "    def _random_entity(self):\n",
    "        \"\"\"\n",
    "        Generates a random entity\n",
    "        \n",
    "        :return: List of chars, a new random entity\n",
    "        \"\"\"\n",
    "        ## Draw a length between the min and max length of the password\n",
    "        length = random.randint(self._pass_min_length, self._pass_max_length)\n",
    "        ## Draw a random char in the possible ones for each char of the new entity\n",
    "        return [random.choice(self._possible_chars) for i in range(length)]\n",
    "    \n",
    "    def _evaluate_population(self, population):\n",
    "        \"\"\"\n",
    "        Evaluates the passed population using the 'check' function\n",
    "        \n",
    "        :param population:  List of list of chars, the population to evaluate\n",
    "        :return:            List of floats, the list of the fitnesses of each individual\n",
    "        \"\"\"\n",
    "        return [check(self._group_id, entity) for entity in population]\n",
    "    \n",
    "    def _mutate(self, entity):\n",
    "        \"\"\"\n",
    "        Maybe apply one or several mutation(s) to the entity\n",
    "        \n",
    "        :param entity:  List of chars, the entity to mutate\n",
    "        :return:        List of chars, the resulting entity\n",
    "        \"\"\"\n",
    "        for i in range(len(entity)):\n",
    "            if random.random() <= self._mutation_rate:\n",
    "                entity[i] = random.choice(self._possible_chars)\n",
    "        return entity\n",
    "    \n",
    "    def _crossover(self, parent_1, parent_2):\n",
    "        \"\"\"\n",
    "        Generate a child entity, given two parents entities, and then maybe apply mutation(s) to it.\n",
    "        \n",
    "        The length of the child entity is drawned using a normal distribution centered on the mean between\n",
    "        the lengths of the two parents. By doing so, the new length have big chances to be close to the\n",
    "        parents ones but can vary on all possible values.\n",
    "        \n",
    "        The child entity is then generated using the first part of the first parent and the second part\n",
    "        of the second parent. The splitting point is randomly drawned.\n",
    "        If the resulting child is longer than it should, some random characters are poped.\n",
    "        If it is shorter than it should, some random characters are added.\n",
    "        \n",
    "        Then, mutation(s) are maybe applied to the child entity.\n",
    "        \n",
    "        :param parent_1:  List of chars, the first parent\n",
    "        :param parent_2:  List of chars, the second parent\n",
    "        :return:          List of chars, the resulting entity\n",
    "        \"\"\"\n",
    "        min_parent = parent_1 if min(len(parent_1), len(parent_2)) == len(parent_1) else parent_2\n",
    "        max_parent = parent_1 if min_parent == parent_2 else parent_2\n",
    "\n",
    "        ## Mean between lengths of both parents\n",
    "        mu = (len(min_parent) + len(max_parent)) / 2.\n",
    "        ## Standard deviation\n",
    "        sigma = 1.8\n",
    "        ## Get random from normal distribution around mean between the lengths of both parents\n",
    "        normal =  np.random.normal(mu, sigma, 1)\n",
    "        new_length = max(self._pass_min_length, min(self._pass_max_length, int(round(normal[0]))))\n",
    "\n",
    "        ## Generate child\n",
    "        split_index = random.randint(0, len(min_parent))\n",
    "        child_entity = min_parent[0:split_index] + max_parent[split_index:len(max_parent)]\n",
    "        while new_length != len(child_entity):\n",
    "            if new_length > len(child_entity):\n",
    "                child_entity.insert(split_index, random.choice(self._possible_chars))\n",
    "            else:\n",
    "                child_entity.pop(random.randint(0, new_length))\n",
    "\n",
    "        return self._mutate(child_entity)\n",
    "    \n",
    "    def _selection(self, population, fitnesses):\n",
    "        \"\"\"\n",
    "        Generate a new population given the current one and its evaluation\n",
    "        \n",
    "        :param population:  List of list of chars, the current population\n",
    "        :param fitnesses:   List of floats, the fitnesses of each individual\n",
    "        :return:            List of list of chars, the new population\n",
    "        \"\"\"\n",
    "        ## Sort the current population to get the worst on beginning and best on end\n",
    "        population = [x for _, x in sorted(zip(fitnesses, population))]\n",
    "        \n",
    "        ## Start new generation by keeping best part of the current one\n",
    "        new_population = population[-self._keeping_number:len(population)]\n",
    "        \n",
    "        ## Crop the worst part of the current population\n",
    "        population = population[self._cropping_number:]\n",
    "\n",
    "        while len(new_population) < self._entities_per_gen:\n",
    "            ## Randomly pick two parents out of the pondered cropped current population\n",
    "            parent_1, parent_2 = random.choices(population, weights = self._weights, k = 2)\n",
    "            ## Generate the child entity\n",
    "            new_entity = self._crossover(parent_1, parent_2)\n",
    "            ## Add the new entity to the new population\n",
    "            new_population.append(new_entity)\n",
    "        return new_population\n",
    "    \n",
    "    @property\n",
    "    def max_fitnesses(self):\n",
    "        return self._max_fitnesses\n",
    "    \n",
    "    @property\n",
    "    def mean_fitnesses(self):\n",
    "        return self._mean_fitnesses\n",
    "    \n",
    "    @property\n",
    "    def median_fitnesses(self):\n",
    "        return self._median_fitnesses\n",
    "    \n",
    "    @property\n",
    "    def min_fitnesses(self):\n",
    "        return self._min_fitnesses\n",
    "    \n",
    "    @property\n",
    "    def best_entities(self):\n",
    "        return self._best_entities\n",
    "    \n",
    "    @property\n",
    "    def generations(self):\n",
    "        return self._generations\n",
    "    \n",
    "    @property\n",
    "    def run_times(self):\n",
    "        return self._run_times"
   ]
  },
  {
   "cell_type": "markdown",
   "metadata": {},
   "source": [
    "## Résultats avec paramètres par défaut"
   ]
  },
  {
   "cell_type": "code",
   "execution_count": 362,
   "metadata": {},
   "outputs": [
    {
     "name": "stdout",
     "output_type": "stream",
     "text": [
      "SRIUBLODIZLA 62 4.46 seconds\n"
     ]
    },
    {
     "data": {
      "image/png": "[encoded data removed]",
      "text/plain": [
       "<Figure size 720x576 with 1 Axes>"
      ]
     },
     "metadata": {
      "needs_background": "light"
     },
     "output_type": "display_data"
    }
   ],
   "source": [
    "ga = GA(group_id = 5)\n",
    "ga.run()\n",
    "\n",
    "print(ga.best_entities[0][-1], ga.generations[0], '{:.2f} seconds'.format(ga.run_times[0]))\n",
    "\n",
    "plt.figure(figsize=(10, 8))\n",
    "plt.title('Fitnesses')\n",
    "plt.plot(ga.max_fitnesses[0], color = 'red', label = 'max')\n",
    "plt.plot(ga.mean_fitnesses[0], color = 'orange', label = 'mean')\n",
    "plt.plot(ga.median_fitnesses[0], color = 'purple', label = 'median')\n",
    "plt.plot(ga.min_fitnesses[0], color = 'blue', label = 'min')\n",
    "plt.legend()\n",
    "plt.show()"
   ]
  },
  {
   "cell_type": "code",
   "execution_count": 363,
   "metadata": {},
   "outputs": [
    {
     "name": "stdout",
     "output_type": "stream",
     "text": [
      "Group 01: Y3NW3J24QMAW2W       - 5.9551s\n",
      "Group 02: GZYLGRO1FHUHUV94     - 5.8982s\n",
      "Group 03: G5TX3YOH0GSBTTD      - 5.3497s\n",
      "Group 04: U0L8BLSZEIRD1D0      - 8.6718s\n",
      "Group 05: SRIUBLODIZLA         - 2.0320s\n",
      "Group 06: A7MGWZPASISDWF       - 3.8048s\n",
      "Group 07: L1UG2LNM28W4KR       - 8.9841s\n",
      "Group 08: WY7QZXRKUZC1PU       - 6.1805s\n",
      "Group 09: 2MZ5T0KQAC18EE3F     - 5.3856s\n",
      "Group 10: 5Y0QN7ZVTZDD         - 5.0645s\n",
      "Group 11: 2APFOMKJ0DLYEJD      - 9.9813s\n",
      "Group 12: 29F0FS36FVWI6QG      - 25.6364s\n"
     ]
    }
   ],
   "source": [
    "for group_id in range(1, 12 + 1):\n",
    "    ga = GA(group_id = group_id)\n",
    "    ga.run()\n",
    "    print('Group {:02d}: {:20s} - {:02.4f}s'.format(group_id, ga.best_entities[0][-1], ga.run_times[0]))"
   ]
  },
  {
   "cell_type": "markdown",
   "metadata": {},
   "source": [
    "#### Passwords:\n",
    "\n",
    "* Group 01: Y3NW3J24QMAW2W\n",
    "* Group 02: GZYLGRO1FHUHUV94\n",
    "* Group 03: G5TX3YOH0GSBTTD\n",
    "* Group 04: U0L8BLSZEIRD1D0\n",
    "* Group 05: SRIUBLODIZLA\n",
    "* Group 06: A7MGWZPASISDWF\n",
    "* Group 07: L1UG2LNM28W4KR\n",
    "* Group 08: WY7QZXRKUZC1PU\n",
    "* Group 09: 2MZ5T0KQAC18EE3F\n",
    "* Group 10: 5Y0QN7ZVTZDD\n",
    "* Group 11: 2APFOMKJ0DLYEJD\n",
    "* Group 12: 29F0FS36FVWI6QG"
   ]
  },
  {
   "cell_type": "markdown",
   "metadata": {},
   "source": [
    "## Tests"
   ]
  },
  {
   "cell_type": "code",
   "execution_count": 347,
   "metadata": {},
   "outputs": [],
   "source": [
    "group_id = 5\n",
    "\n",
    "x = 10\n",
    "\n",
    "ga = GA(group_id = group_id)\n",
    "ga.run_x_times(x)"
   ]
  },
  {
   "cell_type": "code",
   "execution_count": 348,
   "metadata": {},
   "outputs": [
    {
     "name": "stdout",
     "output_type": "stream",
     "text": [
      "Needed generation for 10 runs\n",
      "Mean: 74.4\n",
      "Median: 59.0\n",
      "Max: 165\n",
      "Min: 45\n",
      "Needed run times for 10 runs\n",
      "Mean: 5.184333300590515\n",
      "Median: 4.284021258354187\n",
      "Max: 11.388575553894043\n",
      "Min: 3.094719409942627\n"
     ]
    }
   ],
   "source": [
    "print('Needed generation for 10 runs')\n",
    "print('Mean:', np.mean(ga.generations))\n",
    "print('Median:', np.median(ga.generations))\n",
    "print('Max:', max(ga.generations))\n",
    "print('Min:', min(ga.generations))\n",
    "\n",
    "print('Needed run times for 10 runs')\n",
    "print('Mean:', np.mean(ga.run_times))\n",
    "print('Median:', np.median(ga.run_times))\n",
    "print('Max:', max(ga.run_times))\n",
    "print('Min:', min(ga.run_times))"
   ]
  },
  {
   "cell_type": "markdown",
   "metadata": {},
   "source": [
    "### Tests on entities per generations"
   ]
  },
  {
   "cell_type": "code",
   "execution_count": 227,
   "metadata": {},
   "outputs": [
    {
     "data": {
      "image/png": "[encoded data removed]",
      "text/plain": [
       "<Figure size 720x576 with 1 Axes>"
      ]
     },
     "metadata": {
      "needs_background": "light"
     },
     "output_type": "display_data"
    }
   ],
   "source": [
    "group_id = 1\n",
    "x = 50\n",
    "seeds = None\n",
    "\n",
    "entities_per_generations = [600, 625, 650, 675, 700, 725, 750, 775, 800]\n",
    "run_times = []\n",
    "\n",
    "for ent in entities_per_generations:\n",
    "    ga = GA(group_id = group_id, entities_per_gen = ent)\n",
    "    ga.run_x_times(x, seeds = seeds)\n",
    "    run_times.append(ga.run_times)\n",
    "    print(ent, np.mean(ga.run_times))\n",
    "    \n",
    "fig, ax = plt.subplots(figsize=(10, 8))\n",
    "ax.set_title('Entities per generations')\n",
    "ax.boxplot(run_times)\n",
    "ax.set_xticklabels(entities_per_generations)\n",
    "plt.show()"
   ]
  },
  {
   "cell_type": "markdown",
   "metadata": {},
   "source": [
    "### Tests on cropping rate"
   ]
  },
  {
   "cell_type": "code",
   "execution_count": 268,
   "metadata": {},
   "outputs": [
    {
     "name": "stdout",
     "output_type": "stream",
     "text": [
      "0.0 8.538337998390197\n",
      "0.05 7.573261895179749\n",
      "0.1 8.97731435775757\n",
      "0.5 9.506949248313903\n",
      "0.55 9.32807324886322\n"
     ]
    },
    {
     "data": {
      "image/png": "[encoded data removed]",
      "text/plain": [
       "<Figure size 720x576 with 1 Axes>"
      ]
     },
     "metadata": {
      "needs_background": "light"
     },
     "output_type": "display_data"
    }
   ],
   "source": [
    "cropping_rates = [.05, .1, .15, .2, .25, .3, .35, .4, .45, .5]\n",
    "run_times = []\n",
    "\n",
    "for crop in cropping_rates:\n",
    "    ga = GA(group_id = group_id, cropping_rate = crop)\n",
    "    ga.run_x_times(x, seeds = seeds)\n",
    "    run_times.append(ga.run_times)\n",
    "    print(crop, np.mean(ga.run_times))\n",
    "\n",
    "fig, ax = plt.subplots(figsize=(10, 8))\n",
    "ax.set_title('Cropping rates')\n",
    "ax.boxplot(run_times)\n",
    "ax.set_xticklabels(cropping_rates)\n",
    "plt.show()"
   ]
  },
  {
   "cell_type": "markdown",
   "metadata": {},
   "source": [
    "### Tests on keeping rate"
   ]
  },
  {
   "cell_type": "code",
   "execution_count": 239,
   "metadata": {},
   "outputs": [
    {
     "data": {
      "image/png": "[encoded data removed]",
      "text/plain": [
       "<Figure size 720x576 with 1 Axes>"
      ]
     },
     "metadata": {
      "needs_background": "light"
     },
     "output_type": "display_data"
    }
   ],
   "source": [
    "keeping_rates = [.05, .1, .15, .2, .25, .3, .35, .4, .45, .5]\n",
    "run_times = []\n",
    "\n",
    "for keep in keeping_rates:\n",
    "    ga = GA(group_id = group_id, keeping_rate = keep)\n",
    "    ga.run_x_times(x, seeds = seeds)\n",
    "    run_times.append(ga.run_times)\n",
    "    print(keep, np.mean(ga.run_times))\n",
    "\n",
    "fig, ax = plt.subplots(figsize=(10, 8))\n",
    "ax.set_title('Keeping rates')\n",
    "ax.boxplot(run_times)\n",
    "ax.set_xticklabels(keeping_rates)\n",
    "plt.show()"
   ]
  },
  {
   "cell_type": "markdown",
   "metadata": {},
   "source": [
    "### Tests on mutation rate"
   ]
  },
  {
   "cell_type": "code",
   "execution_count": 235,
   "metadata": {},
   "outputs": [
    {
     "data": {
      "image/png": "[encoded data removed]",
      "text/plain": [
       "<Figure size 720x576 with 1 Axes>"
      ]
     },
     "metadata": {
      "needs_background": "light"
     },
     "output_type": "display_data"
    }
   ],
   "source": [
    "mutation_rates = [.005, .01, .015, .02, .025, .03, .05, .075, .1, .15]\n",
    "run_times = []\n",
    "\n",
    "for mut in mutation_rates:\n",
    "    ga = GA(group_id = group_id, mutation_rate = mut)\n",
    "    ga.run_x_times(x, seeds = seeds)\n",
    "    run_times.append(ga.run_times)\n",
    "    print(mut, np.mean(ga.run_times))\n",
    "\n",
    "fig, ax = plt.subplots(figsize=(10, 8))\n",
    "ax.set_title('Mutation rates')\n",
    "ax.boxplot(run_times)\n",
    "ax.set_xticklabels(mutation_rates)\n",
    "plt.show()"
   ]
  },
  {
   "cell_type": "markdown",
   "metadata": {},
   "source": [
    "### Résultats moyens sur 5 runs en ne changeant qu'un paramètre à chaque fois\n",
    "<pre>\n",
    "default              : 5.031045\n",
    "mutation = 5%        : 11.594719\n",
    "mutation = 7.5%      : 9.502050\n",
    "mutation = 1.5%      : 5.567274\n",
    "entities = 350       : 11.633514\n",
    "entities = 500       : 11.256940\n",
    "entities = 1000      : 6.578795\n",
    "entities = 1400      : 9.538622\n",
    "cropping = 20%       : 4.740771\n",
    "cropping = 40%       : 3.668993\n",
    "cropping = 0%        : 6.916049\n",
    "keeping = 5%         : 32.385709\n",
    "keeping = 40%        : 6.009441\n",
    "</pre>"
   ]
  },
  {
   "cell_type": "markdown",
   "metadata": {},
   "source": [
    "### Grosse diffèrence grâce au tableau 'weights' pour pondérer les entités plutôt que d'utiliser les fitnesses\n",
    "### Passage de plus de 600-700 générations en moyenne à un peu plus de 150 seulement\n",
    "\n",
    "### Me semble vraiment plus rapide (environ 1/4 de fois plus rapide) en gardant  20% des meilleurs parents d'une génération à une autre plutôt que 10% comme initialement (aussi testé 50%, moins bon)\n",
    "\n",
    "### Trouve le password en assez peu d'itérations (100-150) avec 1600 entités par population\n",
    "### Mais globalement beaucoup plus rapide en temps avec 800, même si un plus de générations nécessaires (150+)\n",
    "\n",
    "### Plus de mutations : globalement très négatif, 2.5% semble opti et de trèèèèèèèès loin\n",
    "\n",
    "## Ne jamais aller jusqu'a 50% de cropping (ou même au dessus), autrement les résultats sont parfois meilleurs mais on se retrouve beaucoup plus souvent dans une situation de blocage dans les derniers pourcents."
   ]
  }
 ],
 "metadata": {
  "kernelspec": {
   "display_name": "Python 3",
   "language": "python",
   "name": "python3"
  },
  "language_info": {
   "codemirror_mode": {
    "name": "ipython",
    "version": 3
   },
   "file_extension": ".py",
   "mimetype": "text/x-python",
   "name": "python",
   "nbconvert_exporter": "python",
   "pygments_lexer": "ipython3",
   "version": "3.7.4"
  }
 },
 "nbformat": 4,
 "nbformat_minor": 2
}
