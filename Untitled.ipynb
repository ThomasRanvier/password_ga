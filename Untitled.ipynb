{
 "cells": [
  {
   "cell_type": "code",
   "execution_count": 1,
   "metadata": {},
   "outputs": [],
   "source": [
    "from blackbox37 import check\n",
    "import random\n",
    "import numpy as np\n",
    "import math\n",
    "import matplotlib.pyplot as plt\n",
    "%matplotlib inline"
   ]
  },
  {
   "cell_type": "markdown",
   "metadata": {},
   "source": [
    "## Parameters"
   ]
  },
  {
   "cell_type": "code",
   "execution_count": 63,
   "metadata": {},
   "outputs": [],
   "source": [
    "GROUP_ID = 5\n",
    "\n",
    "MIN_CHARS = 12\n",
    "MAX_CHARS = 18\n",
    "\n",
    "POSSIBLE_CHARS = [chr(i) for i in range(65, 91)]\n",
    "POSSIBLE_CHARS.extend([str(i) for i in list(range(10))])\n",
    "\n",
    "ENTITIES_NUMBER = 800\n",
    "FITNESS_THRESHOLD = 1.\n",
    "\n",
    "MAX_GENERATIONS = 5000\n",
    "\n",
    "MUTATION_RATE = .05\n",
    "CROP_NUMBER = int(ENTITIES_NUMBER / 10.)\n",
    "KEEPING_PARENTS = int(.2 * ENTITIES_NUMBER)\n",
    "\n",
    "VERBOSE = True\n",
    "PRINT_EVERY = 50"
   ]
  },
  {
   "cell_type": "markdown",
   "metadata": {},
   "source": [
    "## Utils"
   ]
  },
  {
   "cell_type": "code",
   "execution_count": 3,
   "metadata": {},
   "outputs": [],
   "source": [
    "def random_entity():\n",
    "    length = random.randint(MIN_CHARS, MAX_CHARS)\n",
    "    return [random.choice(POSSIBLE_CHARS) for i in range(length)]"
   ]
  },
  {
   "cell_type": "code",
   "execution_count": 4,
   "metadata": {},
   "outputs": [],
   "source": [
    "def evaluate_population(population):\n",
    "    return [check(GROUP_ID, entity) for entity in population]"
   ]
  },
  {
   "cell_type": "code",
   "execution_count": 5,
   "metadata": {},
   "outputs": [],
   "source": [
    "def mutate(entity):\n",
    "    for i in range(len(entity)):\n",
    "        if random.random() <= MUTATION_RATE:\n",
    "            entity[i] = random.choice(POSSIBLE_CHARS)\n",
    "    return entity"
   ]
  },
  {
   "cell_type": "code",
   "execution_count": 6,
   "metadata": {},
   "outputs": [],
   "source": [
    "def crossover(parent_1, parent_2):\n",
    "    min_parent = parent_1 if min(len(parent_1), len(parent_2))==len(parent_1) else parent_2\n",
    "    max_parent = parent_1 if min_parent==parent_2 else parent_2\n",
    "\n",
    "    # Mean between lengths of both parents\n",
    "    mu = (len(min_parent) + len(max_parent)) / 2.\n",
    "    # Standard deviation\n",
    "    sigma = 1.8\n",
    "    # Get random from normal distribution around mean between the lengths of both parents\n",
    "    normal =  np.random.normal(mu, sigma, 1)\n",
    "    new_length = max(MIN_CHARS, min(MAX_CHARS, int(round(normal[0]))))\n",
    "\n",
    "    # Generate child\n",
    "    split_index = random.randint(0, len(min_parent))\n",
    "    child_entity = min_parent[0:split_index] + max_parent[split_index:len(max_parent)]\n",
    "    while new_length != len(child_entity):\n",
    "        if new_length > len(child_entity):\n",
    "            child_entity.insert(split_index,random.choice(POSSIBLE_CHARS))\n",
    "        else:\n",
    "            child_entity.pop(random.randint(0, new_length))\n",
    "\n",
    "    return mutate(child_entity)"
   ]
  },
  {
   "cell_type": "code",
   "execution_count": 49,
   "metadata": {},
   "outputs": [],
   "source": [
    "def selection(population, fitnesses):\n",
    "    population = [x for _, x in sorted(zip(fitnesses, population))][CROP_NUMBER:]\n",
    "    weights = [i + 1 for i in range(len(population))]\n",
    "    new_population = population[-KEEPING_PARENTS:len(population)]\n",
    "    while len(new_population) < ENTITIES_NUMBER:\n",
    "        parent_1, parent_2 = random.choices(population, weights=weights, k=2)\n",
    "        new_entity = crossover(parent_1, parent_2)\n",
    "        new_population.append(new_entity)\n",
    "    return new_population"
   ]
  },
  {
   "cell_type": "markdown",
   "metadata": {},
   "source": [
    "## Core"
   ]
  },
  {
   "cell_type": "code",
   "execution_count": 65,
   "metadata": {},
   "outputs": [
    {
     "data": {
      "image/png": "[encoded data removed]",
      "text/plain": [
       "<Figure size 1152x360 with 2 Axes>"
      ]
     },
     "metadata": {
      "needs_background": "light"
     },
     "output_type": "display_data"
    },
    {
     "name": "stdout",
     "output_type": "stream",
     "text": [
      "Best entity: SRIUBLODIZLA 1.0\n",
      "After 43 generations\n"
     ]
    }
   ],
   "source": [
    "max_fitness = 0.\n",
    "best_entity = None\n",
    "generation = 1\n",
    "\n",
    "fig, (ax1, ax2) = plt.subplots(1, 2)\n",
    "fig.set_size_inches(16, 5)\n",
    "\n",
    "x = []\n",
    "max_fitnesses = []\n",
    "mean_fitnesses = []\n",
    "\n",
    "population = [random_entity() for _ in range(ENTITIES_NUMBER)]\n",
    "\n",
    "while max_fitness < FITNESS_THRESHOLD and generation <= MAX_GENERATIONS:\n",
    "    fitnesses = evaluate_population(population)\n",
    "    if max(fitnesses) > max_fitness:\n",
    "        max_fitness = max(fitnesses)\n",
    "        best_entity = ''.join(population[np.argmax(fitnesses)])\n",
    "    x.append(generation)\n",
    "    max_fitnesses.append(max(fitnesses))\n",
    "    mean_fitnesses.append(np.mean(fitnesses))\n",
    "    if VERBOSE and generation % PRINT_EVERY == 0:\n",
    "        print('Generation', generation)\n",
    "        print(''.join(population[np.argmax(fitnesses)]))\n",
    "        print(max(fitnesses))\n",
    "    population = selection(population, fitnesses)\n",
    "    generation += 1\n",
    "\n",
    "ax1.set_xlabel('generations')\n",
    "ax1.set_ylabel('max fitness', color='red')\n",
    "ax1.plot(x, max_fitnesses, color='red')\n",
    "ax2.set_xlabel('generations')\n",
    "ax2.set_ylabel('mean fitness', color='blue')\n",
    "ax2.plot(x, mean_fitnesses, color='blue')\n",
    "plt.show()\n",
    "\n",
    "print('Best entity:', best_entity, max_fitness)\n",
    "print('After', generation, 'generations')"
   ]
  },
  {
   "cell_type": "markdown",
   "metadata": {},
   "source": [
    "Passwords:\n",
    "\n",
    "* Group 01: Y3NW3J24QMAW2W\n",
    "* Group 02: GZYLGRO1FHUHUV94\n",
    "* Group 03: G5TX3YOH0GSBTTD\n",
    "* Group 04: U0L8BLSZEIRD1D0\n",
    "* Group 05: SRIUBLODIZLA\n",
    "* Group 06: A7MGWZPASISDWF\n",
    "* Group 07: L1UG2LNM28W4KR\n",
    "* Group 08: WY7QZXRKUZC1PU\n",
    "* Group 09: 2MZ5T0KQAC18EE3F\n",
    "* Group 10: 5Y0QN7ZVTZDD \n",
    "* Group 11: 2APFOMKJ0DLYEJD\n",
    "* Group 12: 29F0FS36FVWI6QG "
   ]
  },
  {
   "cell_type": "markdown",
   "metadata": {},
   "source": [
    "### Grosse diffèrence grâce au tableau 'weights' pour pondérer les entités plutôt que d'utiliser les fitnesses\n",
    "### Passage de plus de 600-700 générations en moyenne à un peu plus de 150 seulement\n",
    "\n",
    "### Me semble vraiment plus rapide (environ 1/4 de fois plus rapide) en gardant  20% des meilleurs parents d'une génération à une autre plutôt que 10% comme initialement (aussi testé 50%, moins bon)\n",
    "\n",
    "### Trouve le password en assez peu d'itérations (100-150) avec 1600 entités par population\n",
    "### Mais globalement beaucoup plus rapide en temps avec 800, même si un plus de générations nécessaires (150+)\n",
    "\n",
    "### Plus de mutations : globalement très négatif, 2.5% semble opti et de trèèèèèèèès loin"
   ]
  }
 ],
 "metadata": {
  "kernelspec": {
   "display_name": "Python 3",
   "language": "python",
   "name": "python3"
  },
  "language_info": {
   "codemirror_mode": {
    "name": "ipython",
    "version": 3
   },
   "file_extension": ".py",
   "mimetype": "text/x-python",
   "name": "python",
   "nbconvert_exporter": "python",
   "pygments_lexer": "ipython3",
   "version": "3.7.4"
  }
 },
 "nbformat": 4,
 "nbformat_minor": 2
}
